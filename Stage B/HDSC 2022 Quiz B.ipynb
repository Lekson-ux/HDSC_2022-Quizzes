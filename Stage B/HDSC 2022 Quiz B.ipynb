{
 "cells": [
  {
   "cell_type": "code",
   "execution_count": 1,
   "metadata": {},
   "outputs": [],
   "source": [
    "import pandas as pd\n",
    "import numpy as np\n",
    "import matplotlib.pyplot as plt\n",
    "import seaborn as sns"
   ]
  },
  {
   "cell_type": "code",
   "execution_count": 2,
   "metadata": {},
   "outputs": [
    {
     "data": {
      "text/html": [
       "<div>\n",
       "<style scoped>\n",
       "    .dataframe tbody tr th:only-of-type {\n",
       "        vertical-align: middle;\n",
       "    }\n",
       "\n",
       "    .dataframe tbody tr th {\n",
       "        vertical-align: top;\n",
       "    }\n",
       "\n",
       "    .dataframe thead th {\n",
       "        text-align: right;\n",
       "    }\n",
       "</style>\n",
       "<table border=\"1\" class=\"dataframe\">\n",
       "  <thead>\n",
       "    <tr style=\"text-align: right;\">\n",
       "      <th></th>\n",
       "      <th>date</th>\n",
       "      <th>Appliances</th>\n",
       "      <th>lights</th>\n",
       "      <th>T1</th>\n",
       "      <th>RH_1</th>\n",
       "      <th>T2</th>\n",
       "      <th>RH_2</th>\n",
       "      <th>T3</th>\n",
       "      <th>RH_3</th>\n",
       "      <th>T4</th>\n",
       "      <th>...</th>\n",
       "      <th>T9</th>\n",
       "      <th>RH_9</th>\n",
       "      <th>T_out</th>\n",
       "      <th>Press_mm_hg</th>\n",
       "      <th>RH_out</th>\n",
       "      <th>Windspeed</th>\n",
       "      <th>Visibility</th>\n",
       "      <th>Tdewpoint</th>\n",
       "      <th>rv1</th>\n",
       "      <th>rv2</th>\n",
       "    </tr>\n",
       "  </thead>\n",
       "  <tbody>\n",
       "    <tr>\n",
       "      <th>0</th>\n",
       "      <td>2016-01-11 17:00:00</td>\n",
       "      <td>60</td>\n",
       "      <td>30</td>\n",
       "      <td>19.89</td>\n",
       "      <td>47.596667</td>\n",
       "      <td>19.2</td>\n",
       "      <td>44.790000</td>\n",
       "      <td>19.79</td>\n",
       "      <td>44.730000</td>\n",
       "      <td>19.000000</td>\n",
       "      <td>...</td>\n",
       "      <td>17.033333</td>\n",
       "      <td>45.53</td>\n",
       "      <td>6.600000</td>\n",
       "      <td>733.5</td>\n",
       "      <td>92.0</td>\n",
       "      <td>7.000000</td>\n",
       "      <td>63.000000</td>\n",
       "      <td>5.3</td>\n",
       "      <td>13.275433</td>\n",
       "      <td>13.275433</td>\n",
       "    </tr>\n",
       "    <tr>\n",
       "      <th>1</th>\n",
       "      <td>2016-01-11 17:10:00</td>\n",
       "      <td>60</td>\n",
       "      <td>30</td>\n",
       "      <td>19.89</td>\n",
       "      <td>46.693333</td>\n",
       "      <td>19.2</td>\n",
       "      <td>44.722500</td>\n",
       "      <td>19.79</td>\n",
       "      <td>44.790000</td>\n",
       "      <td>19.000000</td>\n",
       "      <td>...</td>\n",
       "      <td>17.066667</td>\n",
       "      <td>45.56</td>\n",
       "      <td>6.483333</td>\n",
       "      <td>733.6</td>\n",
       "      <td>92.0</td>\n",
       "      <td>6.666667</td>\n",
       "      <td>59.166667</td>\n",
       "      <td>5.2</td>\n",
       "      <td>18.606195</td>\n",
       "      <td>18.606195</td>\n",
       "    </tr>\n",
       "    <tr>\n",
       "      <th>2</th>\n",
       "      <td>2016-01-11 17:20:00</td>\n",
       "      <td>50</td>\n",
       "      <td>30</td>\n",
       "      <td>19.89</td>\n",
       "      <td>46.300000</td>\n",
       "      <td>19.2</td>\n",
       "      <td>44.626667</td>\n",
       "      <td>19.79</td>\n",
       "      <td>44.933333</td>\n",
       "      <td>18.926667</td>\n",
       "      <td>...</td>\n",
       "      <td>17.000000</td>\n",
       "      <td>45.50</td>\n",
       "      <td>6.366667</td>\n",
       "      <td>733.7</td>\n",
       "      <td>92.0</td>\n",
       "      <td>6.333333</td>\n",
       "      <td>55.333333</td>\n",
       "      <td>5.1</td>\n",
       "      <td>28.642668</td>\n",
       "      <td>28.642668</td>\n",
       "    </tr>\n",
       "    <tr>\n",
       "      <th>3</th>\n",
       "      <td>2016-01-11 17:30:00</td>\n",
       "      <td>50</td>\n",
       "      <td>40</td>\n",
       "      <td>19.89</td>\n",
       "      <td>46.066667</td>\n",
       "      <td>19.2</td>\n",
       "      <td>44.590000</td>\n",
       "      <td>19.79</td>\n",
       "      <td>45.000000</td>\n",
       "      <td>18.890000</td>\n",
       "      <td>...</td>\n",
       "      <td>17.000000</td>\n",
       "      <td>45.40</td>\n",
       "      <td>6.250000</td>\n",
       "      <td>733.8</td>\n",
       "      <td>92.0</td>\n",
       "      <td>6.000000</td>\n",
       "      <td>51.500000</td>\n",
       "      <td>5.0</td>\n",
       "      <td>45.410389</td>\n",
       "      <td>45.410389</td>\n",
       "    </tr>\n",
       "    <tr>\n",
       "      <th>4</th>\n",
       "      <td>2016-01-11 17:40:00</td>\n",
       "      <td>60</td>\n",
       "      <td>40</td>\n",
       "      <td>19.89</td>\n",
       "      <td>46.333333</td>\n",
       "      <td>19.2</td>\n",
       "      <td>44.530000</td>\n",
       "      <td>19.79</td>\n",
       "      <td>45.000000</td>\n",
       "      <td>18.890000</td>\n",
       "      <td>...</td>\n",
       "      <td>17.000000</td>\n",
       "      <td>45.40</td>\n",
       "      <td>6.133333</td>\n",
       "      <td>733.9</td>\n",
       "      <td>92.0</td>\n",
       "      <td>5.666667</td>\n",
       "      <td>47.666667</td>\n",
       "      <td>4.9</td>\n",
       "      <td>10.084097</td>\n",
       "      <td>10.084097</td>\n",
       "    </tr>\n",
       "  </tbody>\n",
       "</table>\n",
       "<p>5 rows × 29 columns</p>\n",
       "</div>"
      ],
      "text/plain": [
       "                  date  Appliances  lights     T1       RH_1    T2       RH_2  \\\n",
       "0  2016-01-11 17:00:00          60      30  19.89  47.596667  19.2  44.790000   \n",
       "1  2016-01-11 17:10:00          60      30  19.89  46.693333  19.2  44.722500   \n",
       "2  2016-01-11 17:20:00          50      30  19.89  46.300000  19.2  44.626667   \n",
       "3  2016-01-11 17:30:00          50      40  19.89  46.066667  19.2  44.590000   \n",
       "4  2016-01-11 17:40:00          60      40  19.89  46.333333  19.2  44.530000   \n",
       "\n",
       "      T3       RH_3         T4  ...         T9   RH_9     T_out  Press_mm_hg  \\\n",
       "0  19.79  44.730000  19.000000  ...  17.033333  45.53  6.600000        733.5   \n",
       "1  19.79  44.790000  19.000000  ...  17.066667  45.56  6.483333        733.6   \n",
       "2  19.79  44.933333  18.926667  ...  17.000000  45.50  6.366667        733.7   \n",
       "3  19.79  45.000000  18.890000  ...  17.000000  45.40  6.250000        733.8   \n",
       "4  19.79  45.000000  18.890000  ...  17.000000  45.40  6.133333        733.9   \n",
       "\n",
       "   RH_out  Windspeed  Visibility  Tdewpoint        rv1        rv2  \n",
       "0    92.0   7.000000   63.000000        5.3  13.275433  13.275433  \n",
       "1    92.0   6.666667   59.166667        5.2  18.606195  18.606195  \n",
       "2    92.0   6.333333   55.333333        5.1  28.642668  28.642668  \n",
       "3    92.0   6.000000   51.500000        5.0  45.410389  45.410389  \n",
       "4    92.0   5.666667   47.666667        4.9  10.084097  10.084097  \n",
       "\n",
       "[5 rows x 29 columns]"
      ]
     },
     "execution_count": 2,
     "metadata": {},
     "output_type": "execute_result"
    }
   ],
   "source": [
    "df=pd.read_csv('energydata_complete.csv')\n",
    "df.head()"
   ]
  },
  {
   "cell_type": "code",
   "execution_count": 3,
   "metadata": {},
   "outputs": [
    {
     "data": {
      "text/plain": [
       "(19735, 29)"
      ]
     },
     "execution_count": 3,
     "metadata": {},
     "output_type": "execute_result"
    }
   ],
   "source": [
    "df.shape"
   ]
  },
  {
   "cell_type": "code",
   "execution_count": 5,
   "metadata": {},
   "outputs": [
    {
     "name": "stdout",
     "output_type": "stream",
     "text": [
      "[[19.2       ]\n",
      " [19.2       ]\n",
      " [19.2       ]\n",
      " ...\n",
      " [25.62857143]\n",
      " [25.414     ]\n",
      " [25.26428571]]\n",
      "              T6\n",
      "0       7.026667\n",
      "1       6.833333\n",
      "2       6.560000\n",
      "3       6.433333\n",
      "4       6.366667\n",
      "...          ...\n",
      "19730  24.796667\n",
      "19731  24.196667\n",
      "19732  23.626667\n",
      "19733  22.433333\n",
      "19734  21.026667\n",
      "\n",
      "[19735 rows x 1 columns]\n"
     ]
    }
   ],
   "source": [
    "import numpy as np\n",
    "x=df.T2.values.reshape([-1,1])\n",
    "print(x)\n",
    "y=pd.DataFrame(df, columns=['T6'])\n",
    "print(y)"
   ]
  },
  {
   "cell_type": "code",
   "execution_count": 6,
   "metadata": {},
   "outputs": [
    {
     "name": "stdout",
     "output_type": "stream",
     "text": [
      "              T6\n",
      "0       7.026667\n",
      "1       6.833333\n",
      "2       6.560000\n",
      "3       6.433333\n",
      "4       6.366667\n",
      "...          ...\n",
      "19730  24.796667\n",
      "19731  24.196667\n",
      "19732  23.626667\n",
      "19733  22.433333\n",
      "19734  21.026667\n",
      "\n",
      "[19735 rows x 1 columns]\n"
     ]
    }
   ],
   "source": [
    "y=pd.DataFrame(df, columns=['T6'])\n",
    "print(y)"
   ]
  },
  {
   "cell_type": "code",
   "execution_count": 7,
   "metadata": {},
   "outputs": [
    {
     "data": {
      "text/html": [
       "<div>\n",
       "<style scoped>\n",
       "    .dataframe tbody tr th:only-of-type {\n",
       "        vertical-align: middle;\n",
       "    }\n",
       "\n",
       "    .dataframe tbody tr th {\n",
       "        vertical-align: top;\n",
       "    }\n",
       "\n",
       "    .dataframe thead th {\n",
       "        text-align: right;\n",
       "    }\n",
       "</style>\n",
       "<table border=\"1\" class=\"dataframe\">\n",
       "  <thead>\n",
       "    <tr style=\"text-align: right;\">\n",
       "      <th></th>\n",
       "      <th>Appliances</th>\n",
       "      <th>T1</th>\n",
       "      <th>RH_1</th>\n",
       "      <th>T2</th>\n",
       "      <th>RH_2</th>\n",
       "      <th>T3</th>\n",
       "      <th>RH_3</th>\n",
       "      <th>T4</th>\n",
       "      <th>RH_4</th>\n",
       "      <th>T5</th>\n",
       "      <th>...</th>\n",
       "      <th>T9</th>\n",
       "      <th>RH_9</th>\n",
       "      <th>T_out</th>\n",
       "      <th>Press_mm_hg</th>\n",
       "      <th>RH_out</th>\n",
       "      <th>Windspeed</th>\n",
       "      <th>Visibility</th>\n",
       "      <th>Tdewpoint</th>\n",
       "      <th>rv1</th>\n",
       "      <th>rv2</th>\n",
       "    </tr>\n",
       "  </thead>\n",
       "  <tbody>\n",
       "    <tr>\n",
       "      <th>0</th>\n",
       "      <td>60</td>\n",
       "      <td>19.89</td>\n",
       "      <td>47.596667</td>\n",
       "      <td>19.2</td>\n",
       "      <td>44.790000</td>\n",
       "      <td>19.79</td>\n",
       "      <td>44.730000</td>\n",
       "      <td>19.000000</td>\n",
       "      <td>45.566667</td>\n",
       "      <td>17.166667</td>\n",
       "      <td>...</td>\n",
       "      <td>17.033333</td>\n",
       "      <td>45.53</td>\n",
       "      <td>6.600000</td>\n",
       "      <td>733.5</td>\n",
       "      <td>92.0</td>\n",
       "      <td>7.000000</td>\n",
       "      <td>63.000000</td>\n",
       "      <td>5.3</td>\n",
       "      <td>13.275433</td>\n",
       "      <td>13.275433</td>\n",
       "    </tr>\n",
       "    <tr>\n",
       "      <th>1</th>\n",
       "      <td>60</td>\n",
       "      <td>19.89</td>\n",
       "      <td>46.693333</td>\n",
       "      <td>19.2</td>\n",
       "      <td>44.722500</td>\n",
       "      <td>19.79</td>\n",
       "      <td>44.790000</td>\n",
       "      <td>19.000000</td>\n",
       "      <td>45.992500</td>\n",
       "      <td>17.166667</td>\n",
       "      <td>...</td>\n",
       "      <td>17.066667</td>\n",
       "      <td>45.56</td>\n",
       "      <td>6.483333</td>\n",
       "      <td>733.6</td>\n",
       "      <td>92.0</td>\n",
       "      <td>6.666667</td>\n",
       "      <td>59.166667</td>\n",
       "      <td>5.2</td>\n",
       "      <td>18.606195</td>\n",
       "      <td>18.606195</td>\n",
       "    </tr>\n",
       "    <tr>\n",
       "      <th>2</th>\n",
       "      <td>50</td>\n",
       "      <td>19.89</td>\n",
       "      <td>46.300000</td>\n",
       "      <td>19.2</td>\n",
       "      <td>44.626667</td>\n",
       "      <td>19.79</td>\n",
       "      <td>44.933333</td>\n",
       "      <td>18.926667</td>\n",
       "      <td>45.890000</td>\n",
       "      <td>17.166667</td>\n",
       "      <td>...</td>\n",
       "      <td>17.000000</td>\n",
       "      <td>45.50</td>\n",
       "      <td>6.366667</td>\n",
       "      <td>733.7</td>\n",
       "      <td>92.0</td>\n",
       "      <td>6.333333</td>\n",
       "      <td>55.333333</td>\n",
       "      <td>5.1</td>\n",
       "      <td>28.642668</td>\n",
       "      <td>28.642668</td>\n",
       "    </tr>\n",
       "    <tr>\n",
       "      <th>3</th>\n",
       "      <td>50</td>\n",
       "      <td>19.89</td>\n",
       "      <td>46.066667</td>\n",
       "      <td>19.2</td>\n",
       "      <td>44.590000</td>\n",
       "      <td>19.79</td>\n",
       "      <td>45.000000</td>\n",
       "      <td>18.890000</td>\n",
       "      <td>45.723333</td>\n",
       "      <td>17.166667</td>\n",
       "      <td>...</td>\n",
       "      <td>17.000000</td>\n",
       "      <td>45.40</td>\n",
       "      <td>6.250000</td>\n",
       "      <td>733.8</td>\n",
       "      <td>92.0</td>\n",
       "      <td>6.000000</td>\n",
       "      <td>51.500000</td>\n",
       "      <td>5.0</td>\n",
       "      <td>45.410389</td>\n",
       "      <td>45.410389</td>\n",
       "    </tr>\n",
       "    <tr>\n",
       "      <th>4</th>\n",
       "      <td>60</td>\n",
       "      <td>19.89</td>\n",
       "      <td>46.333333</td>\n",
       "      <td>19.2</td>\n",
       "      <td>44.530000</td>\n",
       "      <td>19.79</td>\n",
       "      <td>45.000000</td>\n",
       "      <td>18.890000</td>\n",
       "      <td>45.530000</td>\n",
       "      <td>17.200000</td>\n",
       "      <td>...</td>\n",
       "      <td>17.000000</td>\n",
       "      <td>45.40</td>\n",
       "      <td>6.133333</td>\n",
       "      <td>733.9</td>\n",
       "      <td>92.0</td>\n",
       "      <td>5.666667</td>\n",
       "      <td>47.666667</td>\n",
       "      <td>4.9</td>\n",
       "      <td>10.084097</td>\n",
       "      <td>10.084097</td>\n",
       "    </tr>\n",
       "  </tbody>\n",
       "</table>\n",
       "<p>5 rows × 27 columns</p>\n",
       "</div>"
      ],
      "text/plain": [
       "   Appliances     T1       RH_1    T2       RH_2     T3       RH_3         T4  \\\n",
       "0          60  19.89  47.596667  19.2  44.790000  19.79  44.730000  19.000000   \n",
       "1          60  19.89  46.693333  19.2  44.722500  19.79  44.790000  19.000000   \n",
       "2          50  19.89  46.300000  19.2  44.626667  19.79  44.933333  18.926667   \n",
       "3          50  19.89  46.066667  19.2  44.590000  19.79  45.000000  18.890000   \n",
       "4          60  19.89  46.333333  19.2  44.530000  19.79  45.000000  18.890000   \n",
       "\n",
       "        RH_4         T5  ...         T9   RH_9     T_out  Press_mm_hg  RH_out  \\\n",
       "0  45.566667  17.166667  ...  17.033333  45.53  6.600000        733.5    92.0   \n",
       "1  45.992500  17.166667  ...  17.066667  45.56  6.483333        733.6    92.0   \n",
       "2  45.890000  17.166667  ...  17.000000  45.50  6.366667        733.7    92.0   \n",
       "3  45.723333  17.166667  ...  17.000000  45.40  6.250000        733.8    92.0   \n",
       "4  45.530000  17.200000  ...  17.000000  45.40  6.133333        733.9    92.0   \n",
       "\n",
       "   Windspeed  Visibility  Tdewpoint        rv1        rv2  \n",
       "0   7.000000   63.000000        5.3  13.275433  13.275433  \n",
       "1   6.666667   59.166667        5.2  18.606195  18.606195  \n",
       "2   6.333333   55.333333        5.1  28.642668  28.642668  \n",
       "3   6.000000   51.500000        5.0  45.410389  45.410389  \n",
       "4   5.666667   47.666667        4.9  10.084097  10.084097  \n",
       "\n",
       "[5 rows x 27 columns]"
      ]
     },
     "execution_count": 7,
     "metadata": {},
     "output_type": "execute_result"
    }
   ],
   "source": [
    "#dropping date and light column\n",
    "df.drop(['date', 'lights'], axis=1, inplace= True)\n",
    "df.head()"
   ]
  },
  {
   "cell_type": "code",
   "execution_count": 8,
   "metadata": {},
   "outputs": [
    {
     "data": {
      "text/plain": [
       "Index(['Appliances', 'T1', 'RH_1', 'T2', 'RH_2', 'T3', 'RH_3', 'T4', 'RH_4',\n",
       "       'T5', 'RH_5', 'T6', 'RH_6', 'T7', 'RH_7', 'T8', 'RH_8', 'T9', 'RH_9',\n",
       "       'T_out', 'Press_mm_hg', 'RH_out', 'Windspeed', 'Visibility',\n",
       "       'Tdewpoint', 'rv1', 'rv2'],\n",
       "      dtype='object')"
      ]
     },
     "execution_count": 8,
     "metadata": {},
     "output_type": "execute_result"
    }
   ],
   "source": [
    "df.columns"
   ]
  },
  {
   "cell_type": "markdown",
   "metadata": {},
   "source": [
    "### Description of independent and dependent variiable\n",
    "T2- Temperature in living room\n",
    "\n",
    "T6- Temperature outside the building"
   ]
  },
  {
   "cell_type": "code",
   "execution_count": 11,
   "metadata": {},
   "outputs": [
    {
     "data": {
      "image/png": "[encoded data removed]",
      "text/plain": [
       "<matplotlib.figure.Figure at 0x1d628bada20>"
      ]
     },
     "metadata": {
      "needs_background": "light"
     },
     "output_type": "display_data"
    }
   ],
   "source": [
    "#select sample of dataset\n",
    "simple_linear_df= df[['T2', 'T6']].sample(15, random_state=2)\n",
    "#regression plot\n",
    "k=sns.regplot(x='T2', y='T6', data=simple_linear_df)\n",
    "plt.xlabel('Temperature in living room')\n",
    "plt.ylabel('Temperature outside the building')\n",
    "plt.title('Relationship between Temperature in Living room and Temperature outside the building');"
   ]
  },
  {
   "cell_type": "markdown",
   "metadata": {},
   "source": [
    "###### Question 12"
   ]
  },
  {
   "cell_type": "code",
   "execution_count": 12,
   "metadata": {},
   "outputs": [
    {
     "data": {
      "text/plain": [
       "0.64"
      ]
     },
     "execution_count": 12,
     "metadata": {},
     "output_type": "execute_result"
    }
   ],
   "source": [
    "import numpy as np\n",
    "from sklearn.linear_model import LinearRegression\n",
    "model= LinearRegression().fit(x, y)\n",
    "r_sq= model.score(x, y)\n",
    "round(r_sq, 2)"
   ]
  },
  {
   "cell_type": "code",
   "execution_count": 13,
   "metadata": {},
   "outputs": [],
   "source": [
    "#Firstly, we normalise our dataset to a common scale using the min max scaler\n",
    "from sklearn.preprocessing import MinMaxScaler\n",
    "scaler = MinMaxScaler()\n",
    "normalised_df = pd.DataFrame(scaler.fit_transform(df), columns=df.columns)\n",
    "X = normalised_df.drop('Appliances', axis='columns')\n",
    "y = normalised_df['Appliances']"
   ]
  },
  {
   "cell_type": "code",
   "execution_count": 14,
   "metadata": {},
   "outputs": [
    {
     "data": {
      "text/html": [
       "<div>\n",
       "<style scoped>\n",
       "    .dataframe tbody tr th:only-of-type {\n",
       "        vertical-align: middle;\n",
       "    }\n",
       "\n",
       "    .dataframe tbody tr th {\n",
       "        vertical-align: top;\n",
       "    }\n",
       "\n",
       "    .dataframe thead th {\n",
       "        text-align: right;\n",
       "    }\n",
       "</style>\n",
       "<table border=\"1\" class=\"dataframe\">\n",
       "  <thead>\n",
       "    <tr style=\"text-align: right;\">\n",
       "      <th></th>\n",
       "      <th>T1</th>\n",
       "      <th>RH_1</th>\n",
       "      <th>T2</th>\n",
       "      <th>RH_2</th>\n",
       "      <th>T3</th>\n",
       "      <th>RH_3</th>\n",
       "      <th>T4</th>\n",
       "      <th>RH_4</th>\n",
       "      <th>T5</th>\n",
       "      <th>RH_5</th>\n",
       "      <th>...</th>\n",
       "      <th>T9</th>\n",
       "      <th>RH_9</th>\n",
       "      <th>T_out</th>\n",
       "      <th>Press_mm_hg</th>\n",
       "      <th>RH_out</th>\n",
       "      <th>Windspeed</th>\n",
       "      <th>Visibility</th>\n",
       "      <th>Tdewpoint</th>\n",
       "      <th>rv1</th>\n",
       "      <th>rv2</th>\n",
       "    </tr>\n",
       "  </thead>\n",
       "  <tbody>\n",
       "    <tr>\n",
       "      <th>0</th>\n",
       "      <td>0.32735</td>\n",
       "      <td>0.566187</td>\n",
       "      <td>0.225345</td>\n",
       "      <td>0.684038</td>\n",
       "      <td>0.215188</td>\n",
       "      <td>0.746066</td>\n",
       "      <td>0.351351</td>\n",
       "      <td>0.764262</td>\n",
       "      <td>0.175506</td>\n",
       "      <td>0.381691</td>\n",
       "      <td>...</td>\n",
       "      <td>0.223032</td>\n",
       "      <td>0.677290</td>\n",
       "      <td>0.372990</td>\n",
       "      <td>0.097674</td>\n",
       "      <td>0.894737</td>\n",
       "      <td>0.500000</td>\n",
       "      <td>0.953846</td>\n",
       "      <td>0.538462</td>\n",
       "      <td>0.265449</td>\n",
       "      <td>0.265449</td>\n",
       "    </tr>\n",
       "    <tr>\n",
       "      <th>1</th>\n",
       "      <td>0.32735</td>\n",
       "      <td>0.541326</td>\n",
       "      <td>0.225345</td>\n",
       "      <td>0.682140</td>\n",
       "      <td>0.215188</td>\n",
       "      <td>0.748871</td>\n",
       "      <td>0.351351</td>\n",
       "      <td>0.782437</td>\n",
       "      <td>0.175506</td>\n",
       "      <td>0.381691</td>\n",
       "      <td>...</td>\n",
       "      <td>0.226500</td>\n",
       "      <td>0.678532</td>\n",
       "      <td>0.369239</td>\n",
       "      <td>0.100000</td>\n",
       "      <td>0.894737</td>\n",
       "      <td>0.476190</td>\n",
       "      <td>0.894872</td>\n",
       "      <td>0.533937</td>\n",
       "      <td>0.372083</td>\n",
       "      <td>0.372083</td>\n",
       "    </tr>\n",
       "    <tr>\n",
       "      <th>2</th>\n",
       "      <td>0.32735</td>\n",
       "      <td>0.530502</td>\n",
       "      <td>0.225345</td>\n",
       "      <td>0.679445</td>\n",
       "      <td>0.215188</td>\n",
       "      <td>0.755569</td>\n",
       "      <td>0.344745</td>\n",
       "      <td>0.778062</td>\n",
       "      <td>0.175506</td>\n",
       "      <td>0.380037</td>\n",
       "      <td>...</td>\n",
       "      <td>0.219563</td>\n",
       "      <td>0.676049</td>\n",
       "      <td>0.365488</td>\n",
       "      <td>0.102326</td>\n",
       "      <td>0.894737</td>\n",
       "      <td>0.452381</td>\n",
       "      <td>0.835897</td>\n",
       "      <td>0.529412</td>\n",
       "      <td>0.572848</td>\n",
       "      <td>0.572848</td>\n",
       "    </tr>\n",
       "    <tr>\n",
       "      <th>3</th>\n",
       "      <td>0.32735</td>\n",
       "      <td>0.524080</td>\n",
       "      <td>0.225345</td>\n",
       "      <td>0.678414</td>\n",
       "      <td>0.215188</td>\n",
       "      <td>0.758685</td>\n",
       "      <td>0.341441</td>\n",
       "      <td>0.770949</td>\n",
       "      <td>0.175506</td>\n",
       "      <td>0.380037</td>\n",
       "      <td>...</td>\n",
       "      <td>0.219563</td>\n",
       "      <td>0.671909</td>\n",
       "      <td>0.361736</td>\n",
       "      <td>0.104651</td>\n",
       "      <td>0.894737</td>\n",
       "      <td>0.428571</td>\n",
       "      <td>0.776923</td>\n",
       "      <td>0.524887</td>\n",
       "      <td>0.908261</td>\n",
       "      <td>0.908261</td>\n",
       "    </tr>\n",
       "    <tr>\n",
       "      <th>4</th>\n",
       "      <td>0.32735</td>\n",
       "      <td>0.531419</td>\n",
       "      <td>0.225345</td>\n",
       "      <td>0.676727</td>\n",
       "      <td>0.215188</td>\n",
       "      <td>0.758685</td>\n",
       "      <td>0.341441</td>\n",
       "      <td>0.762697</td>\n",
       "      <td>0.178691</td>\n",
       "      <td>0.380037</td>\n",
       "      <td>...</td>\n",
       "      <td>0.219563</td>\n",
       "      <td>0.671909</td>\n",
       "      <td>0.357985</td>\n",
       "      <td>0.106977</td>\n",
       "      <td>0.894737</td>\n",
       "      <td>0.404762</td>\n",
       "      <td>0.717949</td>\n",
       "      <td>0.520362</td>\n",
       "      <td>0.201611</td>\n",
       "      <td>0.201611</td>\n",
       "    </tr>\n",
       "  </tbody>\n",
       "</table>\n",
       "<p>5 rows × 26 columns</p>\n",
       "</div>"
      ],
      "text/plain": [
       "        T1      RH_1        T2      RH_2        T3      RH_3        T4  \\\n",
       "0  0.32735  0.566187  0.225345  0.684038  0.215188  0.746066  0.351351   \n",
       "1  0.32735  0.541326  0.225345  0.682140  0.215188  0.748871  0.351351   \n",
       "2  0.32735  0.530502  0.225345  0.679445  0.215188  0.755569  0.344745   \n",
       "3  0.32735  0.524080  0.225345  0.678414  0.215188  0.758685  0.341441   \n",
       "4  0.32735  0.531419  0.225345  0.676727  0.215188  0.758685  0.341441   \n",
       "\n",
       "       RH_4        T5      RH_5  ...        T9      RH_9     T_out  \\\n",
       "0  0.764262  0.175506  0.381691  ...  0.223032  0.677290  0.372990   \n",
       "1  0.782437  0.175506  0.381691  ...  0.226500  0.678532  0.369239   \n",
       "2  0.778062  0.175506  0.380037  ...  0.219563  0.676049  0.365488   \n",
       "3  0.770949  0.175506  0.380037  ...  0.219563  0.671909  0.361736   \n",
       "4  0.762697  0.178691  0.380037  ...  0.219563  0.671909  0.357985   \n",
       "\n",
       "   Press_mm_hg    RH_out  Windspeed  Visibility  Tdewpoint       rv1       rv2  \n",
       "0     0.097674  0.894737   0.500000    0.953846   0.538462  0.265449  0.265449  \n",
       "1     0.100000  0.894737   0.476190    0.894872   0.533937  0.372083  0.372083  \n",
       "2     0.102326  0.894737   0.452381    0.835897   0.529412  0.572848  0.572848  \n",
       "3     0.104651  0.894737   0.428571    0.776923   0.524887  0.908261  0.908261  \n",
       "4     0.106977  0.894737   0.404762    0.717949   0.520362  0.201611  0.201611  \n",
       "\n",
       "[5 rows x 26 columns]"
      ]
     },
     "execution_count": 14,
     "metadata": {},
     "output_type": "execute_result"
    }
   ],
   "source": [
    "X.head()"
   ]
  },
  {
   "cell_type": "code",
   "execution_count": 15,
   "metadata": {},
   "outputs": [
    {
     "data": {
      "text/plain": [
       "0    0.046729\n",
       "1    0.046729\n",
       "2    0.037383\n",
       "3    0.037383\n",
       "4    0.046729\n",
       "Name: Appliances, dtype: float64"
      ]
     },
     "execution_count": 15,
     "metadata": {},
     "output_type": "execute_result"
    }
   ],
   "source": [
    "y.head()"
   ]
  },
  {
   "cell_type": "markdown",
   "metadata": {},
   "source": [
    "## Model Building"
   ]
  },
  {
   "cell_type": "code",
   "execution_count": 16,
   "metadata": {},
   "outputs": [],
   "source": [
    "#Now, we split our dataset into training and testing dataset since the feature and target variable has been segmented\n",
    "from sklearn.model_selection import train_test_split\n",
    "from sklearn.linear_model import LinearRegression\n",
    "X_train, X_test, y_train, y_test= train_test_split(X, y, test_size=0.3, random_state=42)\n",
    "linear_model=LinearRegression() "
   ]
  },
  {
   "cell_type": "markdown",
   "metadata": {},
   "source": [
    "#### Question 13"
   ]
  },
  {
   "cell_type": "code",
   "execution_count": 30,
   "metadata": {},
   "outputs": [
    {
     "name": "stdout",
     "output_type": "stream",
     "text": [
      "Mean Absolute Error: 0.05\n"
     ]
    }
   ],
   "source": [
    "#fit the model to the training dataset\n",
    "linear_model.fit(X_train, y_train)\n",
    "\n",
    "#Obtain predictions\n",
    "predicted_values=linear_model.predict(X_test)\n",
    "\n",
    "\n",
    "from sklearn.metrics import mean_absolute_error\n",
    "mae= mean_absolute_error(y_test, predicted_values)\n",
    "print('Mean Absolute Error:', round(mae, 2))"
   ]
  },
  {
   "cell_type": "markdown",
   "metadata": {},
   "source": [
    "#### Question 14"
   ]
  },
  {
   "cell_type": "code",
   "execution_count": 31,
   "metadata": {},
   "outputs": [
    {
     "name": "stdout",
     "output_type": "stream",
     "text": [
      "Residual Sum of Squares: 45.35\n"
     ]
    }
   ],
   "source": [
    "import numpy as np \n",
    "rss= np.sum(np.square(y_test-predicted_values))\n",
    "print('Residual Sum of Squares:', round(rss, 2))"
   ]
  },
  {
   "cell_type": "markdown",
   "metadata": {},
   "source": [
    "#### Question 15"
   ]
  },
  {
   "cell_type": "code",
   "execution_count": 34,
   "metadata": {},
   "outputs": [
    {
     "name": "stdout",
     "output_type": "stream",
     "text": [
      "Root Mean Squared Error 0.088\n"
     ]
    }
   ],
   "source": [
    "\n",
    "from sklearn.metrics import mean_squared_error\n",
    "rmse= np.sqrt(mean_squared_error(y_test, predicted_values))\n",
    "print('Root Mean Squared Error', round(rmse, 3))"
   ]
  },
  {
   "cell_type": "markdown",
   "metadata": {},
   "source": [
    "#### Question 16"
   ]
  },
  {
   "cell_type": "code",
   "execution_count": 33,
   "metadata": {},
   "outputs": [
    {
     "name": "stdout",
     "output_type": "stream",
     "text": [
      "Coefficient of Determination: 0.15\n"
     ]
    }
   ],
   "source": [
    "from sklearn.metrics import r2_score\n",
    "r2_score=r2_score(y_test, predicted_values)\n",
    "print('Coefficient of Determination:', round(r2_score, 2))"
   ]
  },
  {
   "cell_type": "markdown",
   "metadata": {},
   "source": [
    "### Ridge regression"
   ]
  },
  {
   "cell_type": "code",
   "execution_count": 21,
   "metadata": {},
   "outputs": [
    {
     "data": {
      "text/plain": [
       "Ridge(alpha=0.5)"
      ]
     },
     "execution_count": 21,
     "metadata": {},
     "output_type": "execute_result"
    }
   ],
   "source": [
    "from sklearn.linear_model import Ridge\n",
    "ridge_reg= Ridge(alpha=0.5)\n",
    "ridge_reg.fit(X_train, y_train)"
   ]
  },
  {
   "cell_type": "code",
   "execution_count": 24,
   "metadata": {},
   "outputs": [
    {
     "data": {
      "text/plain": [
       "array([-0.02154858,  0.51193201, -0.19387955, -0.40113385,  0.28740783])"
      ]
     },
     "execution_count": 24,
     "metadata": {},
     "output_type": "execute_result"
    }
   ],
   "source": [
    "#first 5 coefficien of ridge regression\n",
    "ridge_reg.coef_[:5]"
   ]
  },
  {
   "cell_type": "markdown",
   "metadata": {},
   "source": [
    "### Lasso Regression"
   ]
  },
  {
   "cell_type": "code",
   "execution_count": 25,
   "metadata": {},
   "outputs": [
    {
     "data": {
      "text/plain": [
       "Lasso(alpha=0.001)"
      ]
     },
     "execution_count": 25,
     "metadata": {},
     "output_type": "execute_result"
    }
   ],
   "source": [
    "from sklearn.linear_model import Lasso\n",
    "lasso_reg= Lasso(alpha=0.001)\n",
    "lasso_reg.fit(X_train, y_train)"
   ]
  },
  {
   "cell_type": "code",
   "execution_count": 40,
   "metadata": {},
   "outputs": [
    {
     "data": {
      "text/plain": [
       "array([ 0.        ,  0.01787993,  0.        , -0.        ,  0.        ])"
      ]
     },
     "execution_count": 40,
     "metadata": {},
     "output_type": "execute_result"
    }
   ],
   "source": [
    "#first five coefficient of lasso regression\n",
    "lasso_reg.coef_[:5]"
   ]
  },
  {
   "cell_type": "markdown",
   "metadata": {},
   "source": [
    "###### Question 17"
   ]
  },
  {
   "cell_type": "code",
   "execution_count": 27,
   "metadata": {},
   "outputs": [],
   "source": [
    "import pandas as pd\n",
    "#Comparing effects of regularization\n",
    "def get_weights_df(model, feat, col_name):\n",
    "    #this function returns the weight of every feature\n",
    "    weights=pd.Series(model.coef_, feat.columns).sort_values()\n",
    "    weights_df=pd.DataFrame(weights).reset_index()\n",
    "    weights_df.columns=['Features', col_name]\n",
    "    weights_df[col_name].round(3)\n",
    "    return weights_df\n",
    "\n",
    "linear_model_weights= get_weights_df(linear_model, X_train, 'Linear_Model_Weight')\n",
    "ridge_weights_df= get_weights_df(ridge_reg, X_train, 'Ridge_Weight')\n",
    "lasso_weights_df= get_weights_df(lasso_reg, X_train, 'Lasso_Weight')\n",
    "\n",
    "  "
   ]
  },
  {
   "cell_type": "code",
   "execution_count": 28,
   "metadata": {},
   "outputs": [],
   "source": [
    "final_weights=pd.merge(linear_model_weights, ridge_weights_df, on='Features')\n",
    "final_weights=pd.merge(final_weights, lasso_weights_df, on='Features')"
   ]
  },
  {
   "cell_type": "code",
   "execution_count": 29,
   "metadata": {},
   "outputs": [
    {
     "name": "stdout",
     "output_type": "stream",
     "text": [
      "       Features  Linear_Model_Weight  Ridge_Weight  Lasso_Weight\n",
      "0          RH_2            -0.456698     -0.401134     -0.000000\n",
      "1         T_out            -0.321860     -0.250765      0.000000\n",
      "2            T2            -0.236178     -0.193880      0.000000\n",
      "3            T9            -0.189941     -0.188584     -0.000000\n",
      "4          RH_8            -0.157595     -0.156596     -0.000110\n",
      "5        RH_out            -0.077671     -0.050541     -0.049557\n",
      "6          RH_7            -0.044614     -0.046291     -0.000000\n",
      "7          RH_9            -0.039800     -0.041701     -0.000000\n",
      "8            T5            -0.015657     -0.020727     -0.000000\n",
      "9            T1            -0.003281     -0.021549      0.000000\n",
      "10          rv2             0.000770      0.000743     -0.000000\n",
      "11          rv1             0.000770      0.000743     -0.000000\n",
      "12  Press_mm_hg             0.006839      0.006516     -0.000000\n",
      "13           T7             0.010319      0.010021     -0.000000\n",
      "14   Visibility             0.012307      0.012032      0.000000\n",
      "15         RH_5             0.016006      0.016176      0.000000\n",
      "16         RH_4             0.026386      0.024168      0.000000\n",
      "17           T4             0.028981      0.027006     -0.000000\n",
      "18    Windspeed             0.029183      0.030463      0.002912\n",
      "19         RH_6             0.038049      0.035023     -0.000000\n",
      "20         RH_3             0.096048      0.094976      0.000000\n",
      "21           T8             0.101995      0.100754      0.000000\n",
      "22    Tdewpoint             0.117758      0.076668      0.000000\n",
      "23           T6             0.236425      0.213316      0.000000\n",
      "24           T3             0.290627      0.287408      0.000000\n",
      "25         RH_1             0.553547      0.511932      0.017880\n"
     ]
    }
   ],
   "source": [
    "print(final_weights)"
   ]
  },
  {
   "cell_type": "markdown",
   "metadata": {},
   "source": [
    " From Above table the lowest and highest feature weights rom the linear regression model are RH_2 and RH_1 respectively"
   ]
  },
  {
   "cell_type": "markdown",
   "metadata": {},
   "source": [
    "##### Question 18"
   ]
  },
  {
   "cell_type": "code",
   "execution_count": 48,
   "metadata": {},
   "outputs": [],
   "source": [
    "#ridge regression train data\n",
    "from sklearn.linear_model import Ridge\n",
    "ridge_reg= Ridge(alpha=0.4)\n",
    "ridge_reg.fit(X_train, y_train)\n",
    "ridge_predicted = ridge_reg.predict(X_test)"
   ]
  },
  {
   "cell_type": "code",
   "execution_count": 49,
   "metadata": {},
   "outputs": [
    {
     "data": {
      "text/plain": [
       "array([0.03321872, 0.24043824, 0.03461337, ..., 0.06872351, 0.10025536,\n",
       "       0.05851175])"
      ]
     },
     "execution_count": 49,
     "metadata": {},
     "output_type": "execute_result"
    }
   ],
   "source": [
    "ridge_predicted"
   ]
  },
  {
   "cell_type": "code",
   "execution_count": 37,
   "metadata": {},
   "outputs": [
    {
     "name": "stdout",
     "output_type": "stream",
     "text": [
      "Root Mean Squared Error for Ridge Regression 0.088\n"
     ]
    }
   ],
   "source": [
    "from sklearn.metrics import mean_squared_error\n",
    "rmse= np.sqrt(mean_squared_error(y_test, ridge_predicted))\n",
    "print('Root Mean Squared Error for Ridge Regression', round(rmse, 3))"
   ]
  },
  {
   "cell_type": "markdown",
   "metadata": {},
   "source": [
    "By comparing the RMSE for both linear Regression and Ridge regression, \n",
    "\n",
    "Hence no change in the Root Mean Square error"
   ]
  },
  {
   "cell_type": "markdown",
   "metadata": {},
   "source": [
    "###### Question 19"
   ]
  },
  {
   "cell_type": "code",
   "execution_count": 44,
   "metadata": {},
   "outputs": [
    {
     "data": {
      "text/plain": [
       "Lasso(alpha=0.001)"
      ]
     },
     "execution_count": 44,
     "metadata": {},
     "output_type": "execute_result"
    }
   ],
   "source": [
    "from sklearn.linear_model import Lasso\n",
    "lasso_reg= Lasso(alpha=0.001)\n",
    "lasso_reg.fit(X_train, y_train)"
   ]
  },
  {
   "cell_type": "code",
   "execution_count": 43,
   "metadata": {},
   "outputs": [
    {
     "data": {
      "text/plain": [
       "array([ 0.        ,  0.01787993,  0.        , -0.        ,  0.        ,\n",
       "        0.        , -0.        ,  0.        , -0.        ,  0.        ,\n",
       "        0.        , -0.        , -0.        , -0.        ,  0.        ,\n",
       "       -0.00011004, -0.        , -0.        ,  0.        , -0.        ,\n",
       "       -0.04955749,  0.00291176,  0.        ,  0.        , -0.        ,\n",
       "       -0.        ])"
      ]
     },
     "execution_count": 43,
     "metadata": {},
     "output_type": "execute_result"
    }
   ],
   "source": [
    "#feature weifhts or coefficient of lasso regression\n",
    "lasso_reg.coef_"
   ]
  },
  {
   "cell_type": "markdown",
   "metadata": {},
   "source": [
    "From the above it shows that there are five non-zero feature weights in the lasso regression model"
   ]
  },
  {
   "cell_type": "markdown",
   "metadata": {},
   "source": [
    "###### Question 20"
   ]
  },
  {
   "cell_type": "code",
   "execution_count": 50,
   "metadata": {},
   "outputs": [
    {
     "data": {
      "text/plain": [
       "array([0.07370267, 0.08143458, 0.07716072, ..., 0.07792848, 0.09034412,\n",
       "       0.08359255])"
      ]
     },
     "execution_count": 50,
     "metadata": {},
     "output_type": "execute_result"
    }
   ],
   "source": [
    "lasso_predicted = lasso_reg.predict(X_test)\n",
    "lasso_predicted"
   ]
  },
  {
   "cell_type": "code",
   "execution_count": 54,
   "metadata": {},
   "outputs": [
    {
     "name": "stdout",
     "output_type": "stream",
     "text": [
      "Root Mean Squared Error for Lasso Regression: 0.094\n"
     ]
    }
   ],
   "source": [
    "from sklearn.metrics import mean_squared_error\n",
    "rmse= np.sqrt(mean_squared_error(y_test, lasso_predicted))\n",
    "print('Root Mean Squared Error for Lasso Regression:', round(rmse, 3))"
   ]
  },
  {
   "cell_type": "code",
   "execution_count": null,
   "metadata": {},
   "outputs": [],
   "source": []
  }
 ],
 "metadata": {
  "kernelspec": {
   "display_name": "Python 3",
   "language": "python",
   "name": "python3"
  },
  "language_info": {
   "codemirror_mode": {
    "name": "ipython",
    "version": 3
   },
   "file_extension": ".py",
   "mimetype": "text/x-python",
   "name": "python",
   "nbconvert_exporter": "python",
   "pygments_lexer": "ipython3",
   "version": "3.6.4"
  }
 },
 "nbformat": 4,
 "nbformat_minor": 2
}
